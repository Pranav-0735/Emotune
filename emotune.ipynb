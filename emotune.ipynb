{
 "cells": [
  {
   "cell_type": "code",
   "execution_count": 12,
   "metadata": {},
   "outputs": [],
   "source": [
    "import streamlit as st\n",
    "from streamlit_webrtc import webrtc_streamer\n",
    "import av\n",
    "import cv2 \n",
    "import numpy as np \n",
    "import mediapipe as mp \n",
    "from keras.models import load_model\n",
    "import webbrowser"
   ]
  },
  {
   "cell_type": "code",
   "execution_count": 13,
   "metadata": {},
   "outputs": [
    {
     "name": "stderr",
     "output_type": "stream",
     "text": [
      "WARNING:absl:Compiled the loaded model, but the compiled metrics have yet to be built. `model.compile_metrics` will be empty until you train or evaluate the model.\n"
     ]
    }
   ],
   "source": [
    "model  = load_model(\"./Models/model.h5\")\n",
    "label = np.load(\"./Models/labels.npy\")\n",
    "holistic = mp.solutions.holistic\n",
    "hands = mp.solutions.hands\n",
    "holis = holistic.Holistic()\n",
    "drawing = mp.solutions.drawing_utils"
   ]
  },
  {
   "cell_type": "code",
   "execution_count": 14,
   "metadata": {},
   "outputs": [
    {
     "name": "stderr",
     "output_type": "stream",
     "text": [
      "2024-10-19 02:52:41.263 Thread 'MainThread': missing ScriptRunContext! This warning can be ignored when running in bare mode.\n",
      "2024-10-19 02:52:41.263 Thread 'MainThread': missing ScriptRunContext! This warning can be ignored when running in bare mode.\n"
     ]
    },
    {
     "data": {
      "text/plain": [
       "DeltaGenerator()"
      ]
     },
     "execution_count": 14,
     "metadata": {},
     "output_type": "execute_result"
    }
   ],
   "source": [
    "st.header(\"Emotion Based Music Recommender\")"
   ]
  },
  {
   "cell_type": "code",
   "execution_count": 15,
   "metadata": {},
   "outputs": [
    {
     "name": "stderr",
     "output_type": "stream",
     "text": [
      "2024-10-19 02:52:41.310 Thread 'MainThread': missing ScriptRunContext! This warning can be ignored when running in bare mode.\n"
     ]
    }
   ],
   "source": [
    "if \"run\" not in st.session_state:\n",
    "\tst.session_state[\"run\"] = \"true\"\n",
    "\n",
    "try:\n",
    "\temotion = np.load(\"emotion.npy\")[0]\n",
    "except:\n",
    "\temotion=\"\""
   ]
  },
  {
   "cell_type": "code",
   "execution_count": 16,
   "metadata": {},
   "outputs": [
    {
     "name": "stderr",
     "output_type": "stream",
     "text": [
      "2024-10-19 02:52:41.395 Thread 'MainThread': missing ScriptRunContext! This warning can be ignored when running in bare mode.\n",
      "2024-10-19 02:52:41.398 Thread 'MainThread': missing ScriptRunContext! This warning can be ignored when running in bare mode.\n"
     ]
    }
   ],
   "source": [
    "if not(emotion):\n",
    "\tst.session_state[\"run\"] = \"true\"\n",
    "else:\n",
    "\tst.session_state[\"run\"] = \"false\""
   ]
  },
  {
   "cell_type": "code",
   "execution_count": 17,
   "metadata": {},
   "outputs": [],
   "source": [
    "class EmotionProcessor:\n",
    "\tdef recv(self, frame):\n",
    "\t\tfrm = frame.to_ndarray(format=\"bgr24\")\n",
    "\n",
    "\t\t##############################\n",
    "\t\tfrm = cv2.flip(frm, 1)\n",
    "\n",
    "\t\tres = holis.process(cv2.cvtColor(frm, cv2.COLOR_BGR2RGB))\n",
    "\n",
    "\t\tlst = []\n",
    "\n",
    "\t\tif res.face_landmarks:\n",
    "\t\t\tfor i in res.face_landmarks.landmark:\n",
    "\t\t\t\tlst.append(i.x - res.face_landmarks.landmark[1].x)\n",
    "\t\t\t\tlst.append(i.y - res.face_landmarks.landmark[1].y)\n",
    "\n",
    "\t\t\tif res.left_hand_landmarks:\n",
    "\t\t\t\tfor i in res.left_hand_landmarks.landmark:\n",
    "\t\t\t\t\tlst.append(i.x - res.left_hand_landmarks.landmark[8].x)\n",
    "\t\t\t\t\tlst.append(i.y - res.left_hand_landmarks.landmark[8].y)\n",
    "\t\t\telse:\n",
    "\t\t\t\tfor i in range(42):\n",
    "\t\t\t\t\tlst.append(0.0)\n",
    "\n",
    "\t\t\tif res.right_hand_landmarks:\n",
    "\t\t\t\tfor i in res.right_hand_landmarks.landmark:\n",
    "\t\t\t\t\tlst.append(i.x - res.right_hand_landmarks.landmark[8].x)\n",
    "\t\t\t\t\tlst.append(i.y - res.right_hand_landmarks.landmark[8].y)\n",
    "\t\t\telse:\n",
    "\t\t\t\tfor i in range(42):\n",
    "\t\t\t\t\tlst.append(0.0)\n",
    "\n",
    "\t\t\tlst = np.array(lst).reshape(1,-1)\n",
    "\n",
    "\t\t\tpred = label[np.argmax(model.predict(lst))]\n",
    "\n",
    "\t\t\tprint(pred)\n",
    "\t\t\tcv2.putText(frm, pred, (50,50),cv2.FONT_ITALIC, 1, (255,0,0),2)\n",
    "\n",
    "\t\t\tnp.save(\"emotion.npy\", np.array([pred]))\n",
    "\n",
    "\t\t\t\n",
    "\t\tdrawing.draw_landmarks(frm, res.face_landmarks, holistic.FACEMESH_TESSELATION,\n",
    "\t\t\t\t\t\t\t\tlandmark_drawing_spec=drawing.DrawingSpec(color=(0,0,255), thickness=-1, circle_radius=1),\n",
    "\t\t\t\t\t\t\t\tconnection_drawing_spec=drawing.DrawingSpec(thickness=1))\n",
    "\t\tdrawing.draw_landmarks(frm, res.left_hand_landmarks, hands.HAND_CONNECTIONS)\n",
    "\t\tdrawing.draw_landmarks(frm, res.right_hand_landmarks, hands.HAND_CONNECTIONS)\n",
    "\n",
    "\n",
    "\t\t##############################\n",
    "\n",
    "\t\treturn av.VideoFrame.from_ndarray(frm, format=\"bgr24\")"
   ]
  },
  {
   "cell_type": "code",
   "execution_count": 18,
   "metadata": {},
   "outputs": [
    {
     "name": "stderr",
     "output_type": "stream",
     "text": [
      "2024-10-19 02:52:41.465 Thread 'MainThread': missing ScriptRunContext! This warning can be ignored when running in bare mode.\n",
      "2024-10-19 02:52:41.467 Thread 'MainThread': missing ScriptRunContext! This warning can be ignored when running in bare mode.\n",
      "2024-10-19 02:52:41.469 Thread 'MainThread': missing ScriptRunContext! This warning can be ignored when running in bare mode.\n",
      "2024-10-19 02:52:41.470 Thread 'MainThread': missing ScriptRunContext! This warning can be ignored when running in bare mode.\n",
      "2024-10-19 02:52:41.472 Thread 'MainThread': missing ScriptRunContext! This warning can be ignored when running in bare mode.\n",
      "2024-10-19 02:52:41.473 Thread 'MainThread': missing ScriptRunContext! This warning can be ignored when running in bare mode.\n",
      "2024-10-19 02:52:41.475 Thread 'MainThread': missing ScriptRunContext! This warning can be ignored when running in bare mode.\n",
      "2024-10-19 02:52:41.477 Thread 'MainThread': missing ScriptRunContext! This warning can be ignored when running in bare mode.\n",
      "2024-10-19 02:52:41.478 Thread 'MainThread': missing ScriptRunContext! This warning can be ignored when running in bare mode.\n",
      "2024-10-19 02:52:41.480 Thread 'MainThread': missing ScriptRunContext! This warning can be ignored when running in bare mode.\n",
      "2024-10-19 02:52:41.482 Thread 'MainThread': missing ScriptRunContext! This warning can be ignored when running in bare mode.\n",
      "2024-10-19 02:52:41.484 Thread 'MainThread': missing ScriptRunContext! This warning can be ignored when running in bare mode.\n"
     ]
    }
   ],
   "source": [
    "lang = st.text_input(\"Language\")\n",
    "singer = st.text_input(\"singer\")"
   ]
  },
  {
   "cell_type": "code",
   "execution_count": 19,
   "metadata": {},
   "outputs": [],
   "source": [
    "if lang and singer and st.session_state[\"run\"] != \"false\":\n",
    "\twebrtc_streamer(key=\"key\", desired_playing_state=True,\n",
    "\t\t\t\tvideo_processor_factory=EmotionProcessor)"
   ]
  },
  {
   "cell_type": "code",
   "execution_count": 20,
   "metadata": {},
   "outputs": [
    {
     "name": "stderr",
     "output_type": "stream",
     "text": [
      "2024-10-19 02:52:41.602 Thread 'MainThread': missing ScriptRunContext! This warning can be ignored when running in bare mode.\n",
      "2024-10-19 02:52:41.609 Thread 'MainThread': missing ScriptRunContext! This warning can be ignored when running in bare mode.\n",
      "2024-10-19 02:52:41.611 Thread 'MainThread': missing ScriptRunContext! This warning can be ignored when running in bare mode.\n",
      "2024-10-19 02:52:41.614 Thread 'MainThread': missing ScriptRunContext! This warning can be ignored when running in bare mode.\n",
      "2024-10-19 02:52:41.615 Thread 'MainThread': missing ScriptRunContext! This warning can be ignored when running in bare mode.\n"
     ]
    }
   ],
   "source": [
    "btn = st.button(\"Recommend me songs\")\n",
    "\n",
    "if btn:\n",
    "\tif not(emotion):\n",
    "\t\tst.warning(\"Please let me capture your emotion first\")\n",
    "\t\tst.session_state[\"run\"] = \"true\"\n",
    "\telse:\n",
    "\t\twebbrowser.open(f\"https://www.youtube.com/results?search_query={lang}+{emotion}+song+{singer}\")\n",
    "\t\tnp.save(\"emotion.npy\", np.array([\"\"]))\n",
    "\t\tst.session_state[\"run\"] = \"false\""
   ]
  }
 ],
 "metadata": {
  "kernelspec": {
   "display_name": "Python 3",
   "language": "python",
   "name": "python3"
  },
  "language_info": {
   "codemirror_mode": {
    "name": "ipython",
    "version": 3
   },
   "file_extension": ".py",
   "mimetype": "text/x-python",
   "name": "python",
   "nbconvert_exporter": "python",
   "pygments_lexer": "ipython3",
   "version": "3.12.5"
  }
 },
 "nbformat": 4,
 "nbformat_minor": 2
}
