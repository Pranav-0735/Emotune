{
 "cells": [
  {
   "cell_type": "code",
   "execution_count": 1,
   "metadata": {},
   "outputs": [],
   "source": [
    "import os \n",
    "import numpy as np"
   ]
  },
  {
   "cell_type": "code",
   "execution_count": 2,
   "metadata": {},
   "outputs": [
    {
     "name": "stdout",
     "output_type": "stream",
     "text": [
      "['Angry', 'Happy', 'Love', 'Neutral', 'Rock', 'Sad']\n",
      "(26157, 1020) (26157,)\n"
     ]
    }
   ],
   "source": [
    "is_init = False\n",
    "print(os.listdir('Data'))\n",
    "for dir in os.listdir('Data'):\n",
    "\tfor i in os.listdir('Data/'+dir):\n",
    "\t\tif(i.split('.')[-1] == 'npy'):\n",
    "\t\t\tif(not is_init):\n",
    "\t\t\t\tis_init = True\n",
    "\t\t\t\tX = np.load('Data/' + dir + '/' +i)\n",
    "\t\t\t\tsize = X.shape[0]\n",
    "\t\t\t\ty = np.array([dir]*size) \n",
    "\t\t\telse:\n",
    "\t\t\t\tx = np.load('Data/' + dir + '/' +i)\n",
    "\t\t\t\tsize = x.shape[0]\n",
    "\t\t\t\tX = np.concatenate((X , x),axis=0)\n",
    "\t\t\t\ty = np.concatenate((y,np.array([(dir)]*size)),axis=0)\n",
    "print(X.shape,y.shape)"
   ]
  },
  {
   "cell_type": "code",
   "execution_count": 3,
   "metadata": {},
   "outputs": [
    {
     "name": "stdout",
     "output_type": "stream",
     "text": [
      "['Angry' 'Angry' 'Angry' ... 'Sad' 'Sad' 'Sad']\n"
     ]
    }
   ],
   "source": [
    "print(y)"
   ]
  },
  {
   "cell_type": "code",
   "execution_count": 4,
   "metadata": {},
   "outputs": [
    {
     "name": "stdout",
     "output_type": "stream",
     "text": [
      "['Angry' 'Happy' 'Love' 'Neutral' 'Rock' 'Sad']\n",
      "[0 0 0 ... 5 5 5]\n"
     ]
    }
   ],
   "source": [
    "from sklearn.preprocessing import LabelEncoder\n",
    "lc = LabelEncoder()\n",
    "y = lc.fit_transform(y)\n",
    "labels = lc.classes_\n",
    "print(labels)\n",
    "print(y)"
   ]
  },
  {
   "cell_type": "code",
   "execution_count": 5,
   "metadata": {},
   "outputs": [
    {
     "name": "stdout",
     "output_type": "stream",
     "text": [
      "(26157, 6)\n"
     ]
    }
   ],
   "source": [
    "# one hot encode y\n",
    "from keras.utils import to_categorical\n",
    "y = to_categorical(y)\n",
    "print(y.shape)"
   ]
  },
  {
   "cell_type": "code",
   "execution_count": 6,
   "metadata": {},
   "outputs": [
    {
     "name": "stdout",
     "output_type": "stream",
     "text": [
      "(26157, 1020)\n"
     ]
    }
   ],
   "source": [
    "num_rows = X.shape[0]\n",
    "shuffled_indices = np.random.permutation(num_rows)\n",
    "X = X[shuffled_indices]\n",
    "y = y[shuffled_indices]\n",
    "print(X.shape)"
   ]
  },
  {
   "cell_type": "code",
   "execution_count": 7,
   "metadata": {},
   "outputs": [],
   "source": [
    "from sklearn.model_selection import train_test_split\n",
    "X_train , X_test , y_train , y_test = train_test_split(X,y,test_size=0.2,random_state=42)"
   ]
  },
  {
   "cell_type": "code",
   "execution_count": 8,
   "metadata": {},
   "outputs": [
    {
     "name": "stderr",
     "output_type": "stream",
     "text": [
      "C:\\Users\\Pranav\\AppData\\Roaming\\Python\\Python312\\site-packages\\keras\\src\\layers\\core\\dense.py:87: UserWarning: Do not pass an `input_shape`/`input_dim` argument to a layer. When using Sequential models, prefer using an `Input(shape)` object as the first layer in the model instead.\n",
      "  super().__init__(activity_regularizer=activity_regularizer, **kwargs)\n"
     ]
    },
    {
     "name": "stdout",
     "output_type": "stream",
     "text": [
      "Epoch 1/100\n",
      "\u001b[1m524/524\u001b[0m \u001b[32m━━━━━━━━━━━━━━━━━━━━\u001b[0m\u001b[37m\u001b[0m \u001b[1m12s\u001b[0m 17ms/step - accuracy: 0.5099 - loss: 1.2423 - val_accuracy: 0.7823 - val_loss: 0.7609 - learning_rate: 0.0010\n",
      "Epoch 2/100\n",
      "\u001b[1m524/524\u001b[0m \u001b[32m━━━━━━━━━━━━━━━━━━━━\u001b[0m\u001b[37m\u001b[0m \u001b[1m8s\u001b[0m 16ms/step - accuracy: 0.7689 - loss: 0.6863 - val_accuracy: 0.6260 - val_loss: 0.9955 - learning_rate: 0.0010\n",
      "Epoch 3/100\n",
      "\u001b[1m524/524\u001b[0m \u001b[32m━━━━━━━━━━━━━━━━━━━━\u001b[0m\u001b[37m\u001b[0m \u001b[1m7s\u001b[0m 13ms/step - accuracy: 0.8128 - loss: 0.5631 - val_accuracy: 0.7814 - val_loss: 0.6490 - learning_rate: 0.0010\n",
      "Epoch 4/100\n",
      "\u001b[1m524/524\u001b[0m \u001b[32m━━━━━━━━━━━━━━━━━━━━\u001b[0m\u001b[37m\u001b[0m \u001b[1m10s\u001b[0m 20ms/step - accuracy: 0.8372 - loss: 0.4929 - val_accuracy: 0.7415 - val_loss: 0.7617 - learning_rate: 0.0010\n",
      "Epoch 5/100\n",
      "\u001b[1m524/524\u001b[0m \u001b[32m━━━━━━━━━━━━━━━━━━━━\u001b[0m\u001b[37m\u001b[0m \u001b[1m10s\u001b[0m 19ms/step - accuracy: 0.8456 - loss: 0.4745 - val_accuracy: 0.8043 - val_loss: 0.5523 - learning_rate: 0.0010\n",
      "Epoch 6/100\n",
      "\u001b[1m524/524\u001b[0m \u001b[32m━━━━━━━━━━━━━━━━━━━━\u001b[0m\u001b[37m\u001b[0m \u001b[1m11s\u001b[0m 20ms/step - accuracy: 0.8543 - loss: 0.4302 - val_accuracy: 0.7517 - val_loss: 0.6965 - learning_rate: 0.0010\n",
      "Epoch 7/100\n",
      "\u001b[1m524/524\u001b[0m \u001b[32m━━━━━━━━━━━━━━━━━━━━\u001b[0m\u001b[37m\u001b[0m \u001b[1m10s\u001b[0m 20ms/step - accuracy: 0.8632 - loss: 0.4097 - val_accuracy: 0.7998 - val_loss: 0.5547 - learning_rate: 0.0010\n",
      "Epoch 8/100\n",
      "\u001b[1m524/524\u001b[0m \u001b[32m━━━━━━━━━━━━━━━━━━━━\u001b[0m\u001b[37m\u001b[0m \u001b[1m10s\u001b[0m 18ms/step - accuracy: 0.8744 - loss: 0.3777 - val_accuracy: 0.7976 - val_loss: 0.5924 - learning_rate: 0.0010\n",
      "Epoch 9/100\n",
      "\u001b[1m524/524\u001b[0m \u001b[32m━━━━━━━━━━━━━━━━━━━━\u001b[0m\u001b[37m\u001b[0m \u001b[1m7s\u001b[0m 11ms/step - accuracy: 0.8791 - loss: 0.3665 - val_accuracy: 0.7881 - val_loss: 0.6086 - learning_rate: 0.0010\n",
      "Epoch 10/100\n",
      "\u001b[1m524/524\u001b[0m \u001b[32m━━━━━━━━━━━━━━━━━━━━\u001b[0m\u001b[37m\u001b[0m \u001b[1m6s\u001b[0m 12ms/step - accuracy: 0.8815 - loss: 0.3566 - val_accuracy: 0.8908 - val_loss: 0.3515 - learning_rate: 0.0010\n",
      "Epoch 11/100\n",
      "\u001b[1m524/524\u001b[0m \u001b[32m━━━━━━━━━━━━━━━━━━━━\u001b[0m\u001b[37m\u001b[0m \u001b[1m6s\u001b[0m 12ms/step - accuracy: 0.8904 - loss: 0.3370 - val_accuracy: 0.8335 - val_loss: 0.4619 - learning_rate: 0.0010\n",
      "Epoch 12/100\n",
      "\u001b[1m524/524\u001b[0m \u001b[32m━━━━━━━━━━━━━━━━━━━━\u001b[0m\u001b[37m\u001b[0m \u001b[1m7s\u001b[0m 13ms/step - accuracy: 0.8953 - loss: 0.3234 - val_accuracy: 0.8710 - val_loss: 0.4090 - learning_rate: 0.0010\n",
      "Epoch 13/100\n",
      "\u001b[1m524/524\u001b[0m \u001b[32m━━━━━━━━━━━━━━━━━━━━\u001b[0m\u001b[37m\u001b[0m \u001b[1m6s\u001b[0m 11ms/step - accuracy: 0.9012 - loss: 0.3034 - val_accuracy: 0.9090 - val_loss: 0.2990 - learning_rate: 0.0010\n",
      "Epoch 14/100\n",
      "\u001b[1m524/524\u001b[0m \u001b[32m━━━━━━━━━━━━━━━━━━━━\u001b[0m\u001b[37m\u001b[0m \u001b[1m7s\u001b[0m 13ms/step - accuracy: 0.9011 - loss: 0.3037 - val_accuracy: 0.9051 - val_loss: 0.3027 - learning_rate: 0.0010\n",
      "Epoch 15/100\n",
      "\u001b[1m524/524\u001b[0m \u001b[32m━━━━━━━━━━━━━━━━━━━━\u001b[0m\u001b[37m\u001b[0m \u001b[1m6s\u001b[0m 12ms/step - accuracy: 0.9077 - loss: 0.2880 - val_accuracy: 0.9109 - val_loss: 0.3049 - learning_rate: 0.0010\n",
      "Epoch 16/100\n",
      "\u001b[1m524/524\u001b[0m \u001b[32m━━━━━━━━━━━━━━━━━━━━\u001b[0m\u001b[37m\u001b[0m \u001b[1m6s\u001b[0m 11ms/step - accuracy: 0.9080 - loss: 0.2779 - val_accuracy: 0.8922 - val_loss: 0.3513 - learning_rate: 0.0010\n",
      "Epoch 17/100\n",
      "\u001b[1m524/524\u001b[0m \u001b[32m━━━━━━━━━━━━━━━━━━━━\u001b[0m\u001b[37m\u001b[0m \u001b[1m6s\u001b[0m 12ms/step - accuracy: 0.9136 - loss: 0.2710 - val_accuracy: 0.8803 - val_loss: 0.3483 - learning_rate: 0.0010\n",
      "Epoch 18/100\n",
      "\u001b[1m524/524\u001b[0m \u001b[32m━━━━━━━━━━━━━━━━━━━━\u001b[0m\u001b[37m\u001b[0m \u001b[1m6s\u001b[0m 11ms/step - accuracy: 0.9154 - loss: 0.2653 - val_accuracy: 0.9176 - val_loss: 0.2827 - learning_rate: 0.0010\n",
      "Epoch 19/100\n",
      "\u001b[1m524/524\u001b[0m \u001b[32m━━━━━━━━━━━━━━━━━━━━\u001b[0m\u001b[37m\u001b[0m \u001b[1m6s\u001b[0m 12ms/step - accuracy: 0.9147 - loss: 0.2686 - val_accuracy: 0.9008 - val_loss: 0.3279 - learning_rate: 0.0010\n",
      "Epoch 20/100\n",
      "\u001b[1m524/524\u001b[0m \u001b[32m━━━━━━━━━━━━━━━━━━━━\u001b[0m\u001b[37m\u001b[0m \u001b[1m6s\u001b[0m 12ms/step - accuracy: 0.9166 - loss: 0.2667 - val_accuracy: 0.9161 - val_loss: 0.2710 - learning_rate: 0.0010\n",
      "Epoch 21/100\n",
      "\u001b[1m524/524\u001b[0m \u001b[32m━━━━━━━━━━━━━━━━━━━━\u001b[0m\u001b[37m\u001b[0m \u001b[1m12s\u001b[0m 16ms/step - accuracy: 0.9226 - loss: 0.2457 - val_accuracy: 0.9183 - val_loss: 0.2859 - learning_rate: 0.0010\n",
      "Epoch 22/100\n",
      "\u001b[1m524/524\u001b[0m \u001b[32m━━━━━━━━━━━━━━━━━━━━\u001b[0m\u001b[37m\u001b[0m \u001b[1m7s\u001b[0m 13ms/step - accuracy: 0.9168 - loss: 0.2511 - val_accuracy: 0.8683 - val_loss: 0.4280 - learning_rate: 0.0010\n",
      "Epoch 23/100\n",
      "\u001b[1m524/524\u001b[0m \u001b[32m━━━━━━━━━━━━━━━━━━━━\u001b[0m\u001b[37m\u001b[0m \u001b[1m7s\u001b[0m 14ms/step - accuracy: 0.9212 - loss: 0.2398 - val_accuracy: 0.9097 - val_loss: 0.3008 - learning_rate: 0.0010\n",
      "Epoch 24/100\n",
      "\u001b[1m524/524\u001b[0m \u001b[32m━━━━━━━━━━━━━━━━━━━━\u001b[0m\u001b[37m\u001b[0m \u001b[1m6s\u001b[0m 12ms/step - accuracy: 0.9258 - loss: 0.2367 - val_accuracy: 0.9295 - val_loss: 0.2343 - learning_rate: 0.0010\n",
      "Epoch 25/100\n",
      "\u001b[1m524/524\u001b[0m \u001b[32m━━━━━━━━━━━━━━━━━━━━\u001b[0m\u001b[37m\u001b[0m \u001b[1m7s\u001b[0m 14ms/step - accuracy: 0.9286 - loss: 0.2345 - val_accuracy: 0.9336 - val_loss: 0.2245 - learning_rate: 0.0010\n",
      "Epoch 26/100\n",
      "\u001b[1m524/524\u001b[0m \u001b[32m━━━━━━━━━━━━━━━━━━━━\u001b[0m\u001b[37m\u001b[0m \u001b[1m6s\u001b[0m 12ms/step - accuracy: 0.9258 - loss: 0.2324 - val_accuracy: 0.8387 - val_loss: 0.5559 - learning_rate: 0.0010\n",
      "Epoch 27/100\n",
      "\u001b[1m524/524\u001b[0m \u001b[32m━━━━━━━━━━━━━━━━━━━━\u001b[0m\u001b[37m\u001b[0m \u001b[1m10s\u001b[0m 12ms/step - accuracy: 0.9281 - loss: 0.2328 - val_accuracy: 0.9228 - val_loss: 0.2609 - learning_rate: 0.0010\n",
      "Epoch 28/100\n",
      "\u001b[1m524/524\u001b[0m \u001b[32m━━━━━━━━━━━━━━━━━━━━\u001b[0m\u001b[37m\u001b[0m \u001b[1m6s\u001b[0m 12ms/step - accuracy: 0.9280 - loss: 0.2251 - val_accuracy: 0.9293 - val_loss: 0.2236 - learning_rate: 0.0010\n",
      "Epoch 29/100\n",
      "\u001b[1m524/524\u001b[0m \u001b[32m━━━━━━━━━━━━━━━━━━━━\u001b[0m\u001b[37m\u001b[0m \u001b[1m6s\u001b[0m 12ms/step - accuracy: 0.9321 - loss: 0.2161 - val_accuracy: 0.9331 - val_loss: 0.2128 - learning_rate: 0.0010\n",
      "Epoch 30/100\n",
      "\u001b[1m524/524\u001b[0m \u001b[32m━━━━━━━━━━━━━━━━━━━━\u001b[0m\u001b[37m\u001b[0m \u001b[1m6s\u001b[0m 12ms/step - accuracy: 0.9312 - loss: 0.2196 - val_accuracy: 0.9374 - val_loss: 0.2190 - learning_rate: 0.0010\n",
      "Epoch 31/100\n",
      "\u001b[1m524/524\u001b[0m \u001b[32m━━━━━━━━━━━━━━━━━━━━\u001b[0m\u001b[37m\u001b[0m \u001b[1m6s\u001b[0m 12ms/step - accuracy: 0.9335 - loss: 0.2093 - val_accuracy: 0.9309 - val_loss: 0.2392 - learning_rate: 0.0010\n",
      "Epoch 32/100\n",
      "\u001b[1m524/524\u001b[0m \u001b[32m━━━━━━━━━━━━━━━━━━━━\u001b[0m\u001b[37m\u001b[0m \u001b[1m6s\u001b[0m 11ms/step - accuracy: 0.9311 - loss: 0.2186 - val_accuracy: 0.9276 - val_loss: 0.2581 - learning_rate: 0.0010\n",
      "Epoch 33/100\n",
      "\u001b[1m524/524\u001b[0m \u001b[32m━━━━━━━━━━━━━━━━━━━━\u001b[0m\u001b[37m\u001b[0m \u001b[1m7s\u001b[0m 13ms/step - accuracy: 0.9317 - loss: 0.2200 - val_accuracy: 0.9264 - val_loss: 0.2577 - learning_rate: 0.0010\n",
      "Epoch 34/100\n",
      "\u001b[1m518/524\u001b[0m \u001b[32m━━━━━━━━━━━━━━━━━━━\u001b[0m\u001b[37m━\u001b[0m \u001b[1m0s\u001b[0m 11ms/step - accuracy: 0.9401 - loss: 0.2070\n",
      "Epoch 34: ReduceLROnPlateau reducing learning rate to 0.0005000000237487257.\n",
      "\u001b[1m524/524\u001b[0m \u001b[32m━━━━━━━━━━━━━━━━━━━━\u001b[0m\u001b[37m\u001b[0m \u001b[1m6s\u001b[0m 12ms/step - accuracy: 0.9400 - loss: 0.2070 - val_accuracy: 0.9352 - val_loss: 0.2246 - learning_rate: 0.0010\n",
      "Epoch 35/100\n",
      "\u001b[1m524/524\u001b[0m \u001b[32m━━━━━━━━━━━━━━━━━━━━\u001b[0m\u001b[37m\u001b[0m \u001b[1m7s\u001b[0m 13ms/step - accuracy: 0.9480 - loss: 0.1687 - val_accuracy: 0.9486 - val_loss: 0.1825 - learning_rate: 5.0000e-04\n",
      "Epoch 36/100\n",
      "\u001b[1m524/524\u001b[0m \u001b[32m━━━━━━━━━━━━━━━━━━━━\u001b[0m\u001b[37m\u001b[0m \u001b[1m7s\u001b[0m 13ms/step - accuracy: 0.9508 - loss: 0.1471 - val_accuracy: 0.9548 - val_loss: 0.1597 - learning_rate: 5.0000e-04\n",
      "Epoch 37/100\n",
      "\u001b[1m524/524\u001b[0m \u001b[32m━━━━━━━━━━━━━━━━━━━━\u001b[0m\u001b[37m\u001b[0m \u001b[1m10s\u001b[0m 18ms/step - accuracy: 0.9554 - loss: 0.1459 - val_accuracy: 0.9501 - val_loss: 0.1865 - learning_rate: 5.0000e-04\n",
      "Epoch 38/100\n",
      "\u001b[1m524/524\u001b[0m \u001b[32m━━━━━━━━━━━━━━━━━━━━\u001b[0m\u001b[37m\u001b[0m \u001b[1m8s\u001b[0m 16ms/step - accuracy: 0.9536 - loss: 0.1525 - val_accuracy: 0.9484 - val_loss: 0.1899 - learning_rate: 5.0000e-04\n",
      "Epoch 39/100\n",
      "\u001b[1m524/524\u001b[0m \u001b[32m━━━━━━━━━━━━━━━━━━━━\u001b[0m\u001b[37m\u001b[0m \u001b[1m12s\u001b[0m 23ms/step - accuracy: 0.9518 - loss: 0.1546 - val_accuracy: 0.9568 - val_loss: 0.1608 - learning_rate: 5.0000e-04\n",
      "Epoch 40/100\n",
      "\u001b[1m524/524\u001b[0m \u001b[32m━━━━━━━━━━━━━━━━━━━━\u001b[0m\u001b[37m\u001b[0m \u001b[1m19s\u001b[0m 18ms/step - accuracy: 0.9500 - loss: 0.1469 - val_accuracy: 0.9455 - val_loss: 0.2053 - learning_rate: 5.0000e-04\n",
      "Epoch 41/100\n",
      "\u001b[1m522/524\u001b[0m \u001b[32m━━━━━━━━━━━━━━━━━━━\u001b[0m\u001b[37m━\u001b[0m \u001b[1m0s\u001b[0m 12ms/step - accuracy: 0.9549 - loss: 0.1435\n",
      "Epoch 41: ReduceLROnPlateau reducing learning rate to 0.0002500000118743628.\n",
      "\u001b[1m524/524\u001b[0m \u001b[32m━━━━━━━━━━━━━━━━━━━━\u001b[0m\u001b[37m\u001b[0m \u001b[1m8s\u001b[0m 13ms/step - accuracy: 0.9549 - loss: 0.1435 - val_accuracy: 0.9448 - val_loss: 0.1970 - learning_rate: 5.0000e-04\n",
      "Epoch 42/100\n",
      "\u001b[1m524/524\u001b[0m \u001b[32m━━━━━━━━━━━━━━━━━━━━\u001b[0m\u001b[37m\u001b[0m \u001b[1m9s\u001b[0m 17ms/step - accuracy: 0.9600 - loss: 0.1189 - val_accuracy: 0.9577 - val_loss: 0.1587 - learning_rate: 2.5000e-04\n",
      "Epoch 43/100\n",
      "\u001b[1m524/524\u001b[0m \u001b[32m━━━━━━━━━━━━━━━━━━━━\u001b[0m\u001b[37m\u001b[0m \u001b[1m11s\u001b[0m 21ms/step - accuracy: 0.9643 - loss: 0.1186 - val_accuracy: 0.9570 - val_loss: 0.1638 - learning_rate: 2.5000e-04\n",
      "Epoch 44/100\n",
      "\u001b[1m524/524\u001b[0m \u001b[32m━━━━━━━━━━━━━━━━━━━━\u001b[0m\u001b[37m\u001b[0m \u001b[1m12s\u001b[0m 23ms/step - accuracy: 0.9629 - loss: 0.1168 - val_accuracy: 0.9625 - val_loss: 0.1488 - learning_rate: 2.5000e-04\n",
      "Epoch 45/100\n",
      "\u001b[1m524/524\u001b[0m \u001b[32m━━━━━━━━━━━━━━━━━━━━\u001b[0m\u001b[37m\u001b[0m \u001b[1m18s\u001b[0m 17ms/step - accuracy: 0.9619 - loss: 0.1229 - val_accuracy: 0.9618 - val_loss: 0.1523 - learning_rate: 2.5000e-04\n",
      "Epoch 46/100\n",
      "\u001b[1m524/524\u001b[0m \u001b[32m━━━━━━━━━━━━━━━━━━━━\u001b[0m\u001b[37m\u001b[0m \u001b[1m12s\u001b[0m 23ms/step - accuracy: 0.9621 - loss: 0.1192 - val_accuracy: 0.9534 - val_loss: 0.1763 - learning_rate: 2.5000e-04\n",
      "Epoch 47/100\n",
      "\u001b[1m524/524\u001b[0m \u001b[32m━━━━━━━━━━━━━━━━━━━━\u001b[0m\u001b[37m\u001b[0m \u001b[1m21s\u001b[0m 24ms/step - accuracy: 0.9653 - loss: 0.1134 - val_accuracy: 0.9625 - val_loss: 0.1469 - learning_rate: 2.5000e-04\n",
      "Epoch 48/100\n",
      "\u001b[1m524/524\u001b[0m \u001b[32m━━━━━━━━━━━━━━━━━━━━\u001b[0m\u001b[37m\u001b[0m \u001b[1m25s\u001b[0m 32ms/step - accuracy: 0.9636 - loss: 0.1127 - val_accuracy: 0.9618 - val_loss: 0.1495 - learning_rate: 2.5000e-04\n",
      "Epoch 49/100\n",
      "\u001b[1m524/524\u001b[0m \u001b[32m━━━━━━━━━━━━━━━━━━━━\u001b[0m\u001b[37m\u001b[0m \u001b[1m15s\u001b[0m 28ms/step - accuracy: 0.9668 - loss: 0.1104 - val_accuracy: 0.9625 - val_loss: 0.1478 - learning_rate: 2.5000e-04\n",
      "Epoch 50/100\n",
      "\u001b[1m524/524\u001b[0m \u001b[32m━━━━━━━━━━━━━━━━━━━━\u001b[0m\u001b[37m\u001b[0m \u001b[1m20s\u001b[0m 25ms/step - accuracy: 0.9649 - loss: 0.1136 - val_accuracy: 0.9632 - val_loss: 0.1446 - learning_rate: 2.5000e-04\n",
      "Epoch 51/100\n",
      "\u001b[1m524/524\u001b[0m \u001b[32m━━━━━━━━━━━━━━━━━━━━\u001b[0m\u001b[37m\u001b[0m \u001b[1m17s\u001b[0m 32ms/step - accuracy: 0.9645 - loss: 0.1186 - val_accuracy: 0.9627 - val_loss: 0.1542 - learning_rate: 2.5000e-04\n",
      "Epoch 52/100\n",
      "\u001b[1m524/524\u001b[0m \u001b[32m━━━━━━━━━━━━━━━━━━━━\u001b[0m\u001b[37m\u001b[0m \u001b[1m19s\u001b[0m 28ms/step - accuracy: 0.9662 - loss: 0.1107 - val_accuracy: 0.9634 - val_loss: 0.1486 - learning_rate: 2.5000e-04\n",
      "Epoch 53/100\n",
      "\u001b[1m524/524\u001b[0m \u001b[32m━━━━━━━━━━━━━━━━━━━━\u001b[0m\u001b[37m\u001b[0m \u001b[1m11s\u001b[0m 21ms/step - accuracy: 0.9630 - loss: 0.1137 - val_accuracy: 0.9620 - val_loss: 0.1472 - learning_rate: 2.5000e-04\n",
      "Epoch 54/100\n",
      "\u001b[1m524/524\u001b[0m \u001b[32m━━━━━━━━━━━━━━━━━━━━\u001b[0m\u001b[37m\u001b[0m \u001b[1m10s\u001b[0m 19ms/step - accuracy: 0.9649 - loss: 0.1168 - val_accuracy: 0.9611 - val_loss: 0.1559 - learning_rate: 2.5000e-04\n",
      "Epoch 55/100\n",
      "\u001b[1m522/524\u001b[0m \u001b[32m━━━━━━━━━━━━━━━━━━━\u001b[0m\u001b[37m━\u001b[0m \u001b[1m0s\u001b[0m 17ms/step - accuracy: 0.9675 - loss: 0.1103\n",
      "Epoch 55: ReduceLROnPlateau reducing learning rate to 0.0001250000059371814.\n",
      "\u001b[1m524/524\u001b[0m \u001b[32m━━━━━━━━━━━━━━━━━━━━\u001b[0m\u001b[37m\u001b[0m \u001b[1m10s\u001b[0m 19ms/step - accuracy: 0.9675 - loss: 0.1103 - val_accuracy: 0.9622 - val_loss: 0.1524 - learning_rate: 2.5000e-04\n",
      "Epoch 56/100\n",
      "\u001b[1m524/524\u001b[0m \u001b[32m━━━━━━━━━━━━━━━━━━━━\u001b[0m\u001b[37m\u001b[0m \u001b[1m10s\u001b[0m 19ms/step - accuracy: 0.9695 - loss: 0.0983 - val_accuracy: 0.9675 - val_loss: 0.1410 - learning_rate: 1.2500e-04\n",
      "Epoch 57/100\n",
      "\u001b[1m524/524\u001b[0m \u001b[32m━━━━━━━━━━━━━━━━━━━━\u001b[0m\u001b[37m\u001b[0m \u001b[1m11s\u001b[0m 20ms/step - accuracy: 0.9699 - loss: 0.0988 - val_accuracy: 0.9651 - val_loss: 0.1452 - learning_rate: 1.2500e-04\n",
      "Epoch 58/100\n",
      "\u001b[1m524/524\u001b[0m \u001b[32m━━━━━━━━━━━━━━━━━━━━\u001b[0m\u001b[37m\u001b[0m \u001b[1m10s\u001b[0m 19ms/step - accuracy: 0.9692 - loss: 0.1038 - val_accuracy: 0.9668 - val_loss: 0.1376 - learning_rate: 1.2500e-04\n",
      "Epoch 59/100\n",
      "\u001b[1m524/524\u001b[0m \u001b[32m━━━━━━━━━━━━━━━━━━━━\u001b[0m\u001b[37m\u001b[0m \u001b[1m10s\u001b[0m 19ms/step - accuracy: 0.9686 - loss: 0.0950 - val_accuracy: 0.9656 - val_loss: 0.1377 - learning_rate: 1.2500e-04\n",
      "Epoch 60/100\n",
      "\u001b[1m524/524\u001b[0m \u001b[32m━━━━━━━━━━━━━━━━━━━━\u001b[0m\u001b[37m\u001b[0m \u001b[1m10s\u001b[0m 19ms/step - accuracy: 0.9693 - loss: 0.0955 - val_accuracy: 0.9668 - val_loss: 0.1355 - learning_rate: 1.2500e-04\n",
      "Epoch 61/100\n",
      "\u001b[1m524/524\u001b[0m \u001b[32m━━━━━━━━━━━━━━━━━━━━\u001b[0m\u001b[37m\u001b[0m \u001b[1m10s\u001b[0m 18ms/step - accuracy: 0.9667 - loss: 0.1129 - val_accuracy: 0.9646 - val_loss: 0.1388 - learning_rate: 1.2500e-04\n",
      "Epoch 62/100\n",
      "\u001b[1m524/524\u001b[0m \u001b[32m━━━━━━━━━━━━━━━━━━━━\u001b[0m\u001b[37m\u001b[0m \u001b[1m12s\u001b[0m 22ms/step - accuracy: 0.9696 - loss: 0.0960 - val_accuracy: 0.9668 - val_loss: 0.1377 - learning_rate: 1.2500e-04\n",
      "Epoch 63/100\n",
      "\u001b[1m524/524\u001b[0m \u001b[32m━━━━━━━━━━━━━━━━━━━━\u001b[0m\u001b[37m\u001b[0m \u001b[1m10s\u001b[0m 19ms/step - accuracy: 0.9703 - loss: 0.1016 - val_accuracy: 0.9668 - val_loss: 0.1379 - learning_rate: 1.2500e-04\n",
      "Epoch 64/100\n",
      "\u001b[1m524/524\u001b[0m \u001b[32m━━━━━━━━━━━━━━━━━━━━\u001b[0m\u001b[37m\u001b[0m \u001b[1m10s\u001b[0m 19ms/step - accuracy: 0.9704 - loss: 0.0973 - val_accuracy: 0.9654 - val_loss: 0.1409 - learning_rate: 1.2500e-04\n",
      "Epoch 65/100\n",
      "\u001b[1m524/524\u001b[0m \u001b[32m━━━━━━━━━━━━━━━━━━━━\u001b[0m\u001b[37m\u001b[0m \u001b[1m0s\u001b[0m 17ms/step - accuracy: 0.9685 - loss: 0.0999\n",
      "Epoch 65: ReduceLROnPlateau reducing learning rate to 6.25000029685907e-05.\n",
      "\u001b[1m524/524\u001b[0m \u001b[32m━━━━━━━━━━━━━━━━━━━━\u001b[0m\u001b[37m\u001b[0m \u001b[1m11s\u001b[0m 19ms/step - accuracy: 0.9685 - loss: 0.0999 - val_accuracy: 0.9649 - val_loss: 0.1413 - learning_rate: 1.2500e-04\n",
      "Epoch 66/100\n",
      "\u001b[1m524/524\u001b[0m \u001b[32m━━━━━━━━━━━━━━━━━━━━\u001b[0m\u001b[37m\u001b[0m \u001b[1m10s\u001b[0m 19ms/step - accuracy: 0.9741 - loss: 0.0834 - val_accuracy: 0.9689 - val_loss: 0.1310 - learning_rate: 6.2500e-05\n",
      "Epoch 67/100\n",
      "\u001b[1m524/524\u001b[0m \u001b[32m━━━━━━━━━━━━━━━━━━━━\u001b[0m\u001b[37m\u001b[0m \u001b[1m14s\u001b[0m 26ms/step - accuracy: 0.9735 - loss: 0.0831 - val_accuracy: 0.9682 - val_loss: 0.1293 - learning_rate: 6.2500e-05\n",
      "Epoch 68/100\n",
      "\u001b[1m524/524\u001b[0m \u001b[32m━━━━━━━━━━━━━━━━━━━━\u001b[0m\u001b[37m\u001b[0m \u001b[1m15s\u001b[0m 28ms/step - accuracy: 0.9715 - loss: 0.0861 - val_accuracy: 0.9687 - val_loss: 0.1350 - learning_rate: 6.2500e-05\n",
      "Epoch 69/100\n",
      "\u001b[1m524/524\u001b[0m \u001b[32m━━━━━━━━━━━━━━━━━━━━\u001b[0m\u001b[37m\u001b[0m \u001b[1m17s\u001b[0m 22ms/step - accuracy: 0.9727 - loss: 0.0892 - val_accuracy: 0.9687 - val_loss: 0.1343 - learning_rate: 6.2500e-05\n",
      "Epoch 70/100\n",
      "\u001b[1m524/524\u001b[0m \u001b[32m━━━━━━━━━━━━━━━━━━━━\u001b[0m\u001b[37m\u001b[0m \u001b[1m10s\u001b[0m 20ms/step - accuracy: 0.9738 - loss: 0.0831 - val_accuracy: 0.9670 - val_loss: 0.1374 - learning_rate: 6.2500e-05\n",
      "Epoch 71/100\n",
      "\u001b[1m524/524\u001b[0m \u001b[32m━━━━━━━━━━━━━━━━━━━━\u001b[0m\u001b[37m\u001b[0m \u001b[1m10s\u001b[0m 18ms/step - accuracy: 0.9716 - loss: 0.0889 - val_accuracy: 0.9701 - val_loss: 0.1319 - learning_rate: 6.2500e-05\n",
      "Epoch 72/100\n",
      "\u001b[1m523/524\u001b[0m \u001b[32m━━━━━━━━━━━━━━━━━━━\u001b[0m\u001b[37m━\u001b[0m \u001b[1m0s\u001b[0m 16ms/step - accuracy: 0.9736 - loss: 0.0865\n",
      "Epoch 72: ReduceLROnPlateau reducing learning rate to 3.125000148429535e-05.\n",
      "\u001b[1m524/524\u001b[0m \u001b[32m━━━━━━━━━━━━━━━━━━━━\u001b[0m\u001b[37m\u001b[0m \u001b[1m9s\u001b[0m 17ms/step - accuracy: 0.9736 - loss: 0.0865 - val_accuracy: 0.9699 - val_loss: 0.1313 - learning_rate: 6.2500e-05\n",
      "Epoch 73/100\n",
      "\u001b[1m524/524\u001b[0m \u001b[32m━━━━━━━━━━━━━━━━━━━━\u001b[0m\u001b[37m\u001b[0m \u001b[1m11s\u001b[0m 19ms/step - accuracy: 0.9744 - loss: 0.0815 - val_accuracy: 0.9689 - val_loss: 0.1361 - learning_rate: 3.1250e-05\n",
      "Epoch 74/100\n",
      "\u001b[1m524/524\u001b[0m \u001b[32m━━━━━━━━━━━━━━━━━━━━\u001b[0m\u001b[37m\u001b[0m \u001b[1m10s\u001b[0m 18ms/step - accuracy: 0.9709 - loss: 0.0902 - val_accuracy: 0.9704 - val_loss: 0.1320 - learning_rate: 3.1250e-05\n",
      "Epoch 75/100\n",
      "\u001b[1m524/524\u001b[0m \u001b[32m━━━━━━━━━━━━━━━━━━━━\u001b[0m\u001b[37m\u001b[0m \u001b[1m9s\u001b[0m 17ms/step - accuracy: 0.9752 - loss: 0.0873 - val_accuracy: 0.9682 - val_loss: 0.1347 - learning_rate: 3.1250e-05\n",
      "Epoch 76/100\n",
      "\u001b[1m524/524\u001b[0m \u001b[32m━━━━━━━━━━━━━━━━━━━━\u001b[0m\u001b[37m\u001b[0m \u001b[1m10s\u001b[0m 19ms/step - accuracy: 0.9740 - loss: 0.0859 - val_accuracy: 0.9701 - val_loss: 0.1316 - learning_rate: 3.1250e-05\n",
      "Epoch 77/100\n",
      "\u001b[1m524/524\u001b[0m \u001b[32m━━━━━━━━━━━━━━━━━━━━\u001b[0m\u001b[37m\u001b[0m \u001b[1m0s\u001b[0m 16ms/step - accuracy: 0.9747 - loss: 0.0848\n",
      "Epoch 77: ReduceLROnPlateau reducing learning rate to 1.5625000742147677e-05.\n",
      "\u001b[1m524/524\u001b[0m \u001b[32m━━━━━━━━━━━━━━━━━━━━\u001b[0m\u001b[37m\u001b[0m \u001b[1m10s\u001b[0m 18ms/step - accuracy: 0.9747 - loss: 0.0848 - val_accuracy: 0.9704 - val_loss: 0.1330 - learning_rate: 3.1250e-05\n",
      "Epoch 77: early stopping\n"
     ]
    },
    {
     "data": {
      "text/plain": [
       "<keras.src.callbacks.history.History at 0x1cba4073440>"
      ]
     },
     "execution_count": 8,
     "metadata": {},
     "output_type": "execute_result"
    }
   ],
   "source": [
    "from keras.models import Sequential\n",
    "from keras.layers import Dense , Dropout\n",
    "\n",
    "from keras.callbacks import EarlyStopping, ReduceLROnPlateau\n",
    "\n",
    "early_stopping = EarlyStopping(monitor='val_loss', patience=10, verbose=1)\n",
    "lr_reduction = ReduceLROnPlateau(monitor='val_loss', patience=5, verbose=1, factor=0.5, min_lr=0.00001)\n",
    "\n",
    "model = Sequential()\n",
    "model.add(Dense(512, activation='relu', input_shape=(X.shape[1],)))\n",
    "model.add(Dropout(0.1))\n",
    "model.add(Dense(256, activation='relu'))\n",
    "model.add(Dropout(0.1))\n",
    "model.add(Dense(32, activation='relu'))\n",
    "model.add(Dense(y.shape[1], activation='softmax'))\n",
    "model.compile(optimizer='rmsprop', loss='categorical_crossentropy', metrics=['accuracy'])\n",
    "model.fit(X_train, y_train, epochs=100, validation_split=0.2, callbacks=[early_stopping, lr_reduction])"
   ]
  },
  {
   "cell_type": "code",
   "execution_count": 9,
   "metadata": {},
   "outputs": [
    {
     "name": "stdout",
     "output_type": "stream",
     "text": [
      "\u001b[1m164/164\u001b[0m \u001b[32m━━━━━━━━━━━━━━━━━━━━\u001b[0m\u001b[37m\u001b[0m \u001b[1m1s\u001b[0m 8ms/step\n"
     ]
    }
   ],
   "source": [
    "y_pred = model.predict(X_test)\n",
    "y_temp = np.zeros([y_test.shape[0] , y_test.shape[1]] , dtype=int)\n",
    "for i in range(y_pred.shape[0]):\n",
    "\ty_temp[i][np.argmax(y_pred[i])] = 1\n",
    "y_pred = y_temp"
   ]
  },
  {
   "cell_type": "code",
   "execution_count": 10,
   "metadata": {},
   "outputs": [
    {
     "name": "stdout",
     "output_type": "stream",
     "text": [
      "Classification Report\n",
      "              precision    recall  f1-score   support\n",
      "\n",
      "       Angry       0.97      0.96      0.97       852\n",
      "       Happy       0.96      0.97      0.97       885\n",
      "        Love       0.99      0.95      0.97       798\n",
      "     Neutral       0.95      0.99      0.97      1224\n",
      "        Rock       0.99      0.95      0.97       907\n",
      "         Sad       0.98      0.98      0.98       566\n",
      "\n",
      "   micro avg       0.97      0.97      0.97      5232\n",
      "   macro avg       0.97      0.97      0.97      5232\n",
      "weighted avg       0.97      0.97      0.97      5232\n",
      " samples avg       0.97      0.97      0.97      5232\n",
      "\n",
      "Accuracy: 0.9701834862385321\n"
     ]
    }
   ],
   "source": [
    "from sklearn.metrics import classification_report , accuracy_score , confusion_matrix\n",
    "print(\"Classification Report\")\n",
    "print(classification_report(y_test, y_pred, target_names=labels))\n",
    "print(f\"Accuracy: {accuracy_score(y_test, y_pred)}\")"
   ]
  },
  {
   "cell_type": "code",
   "execution_count": 11,
   "metadata": {},
   "outputs": [
    {
     "data": {
      "image/png": "[encoded data removed]",
      "text/plain": [
       "<Figure size 640x480 with 2 Axes>"
      ]
     },
     "metadata": {},
     "output_type": "display_data"
    }
   ],
   "source": [
    "import seaborn as sns\n",
    "import matplotlib.pyplot as plt\n",
    "\n",
    "# Define the confusion matrix\n",
    "cm = confusion_matrix(y_test.argmax(axis=1), y_pred.argmax(axis=1))\n",
    "\n",
    "# Create a heatmap with labels\n",
    "sns.heatmap(cm, annot=True, fmt='d', xticklabels=labels, yticklabels=labels)\n",
    "\n",
    "# Set the title and labels\n",
    "plt.title('Confusion Matrix')\n",
    "plt.xlabel('Predicted Labels')\n",
    "plt.ylabel('True Labels')\n",
    "\n",
    "# Display the plot\n",
    "plt.show()"
   ]
  },
  {
   "cell_type": "code",
   "execution_count": 12,
   "metadata": {},
   "outputs": [
    {
     "name": "stderr",
     "output_type": "stream",
     "text": [
      "WARNING:absl:You are saving your model as an HDF5 file via `model.save()` or `keras.saving.save_model(model)`. This file format is considered legacy. We recommend using instead the native Keras format, e.g. `model.save('my_model.keras')` or `keras.saving.save_model(model, 'my_model.keras')`. \n"
     ]
    }
   ],
   "source": [
    "model.save('Models/model.h5')\n",
    "np.save('Models/labels.npy',labels)"
   ]
  },
  {
   "cell_type": "code",
   "execution_count": 13,
   "metadata": {},
   "outputs": [
    {
     "name": "stdout",
     "output_type": "stream",
     "text": [
      "(26157, 1020) (20925, 1020) (5232, 1020)\n"
     ]
    }
   ],
   "source": [
    "print(X.shape , X_train.shape , X_test.shape)"
   ]
  }
 ],
 "metadata": {
  "kernelspec": {
   "display_name": "Python 3",
   "language": "python",
   "name": "python3"
  },
  "language_info": {
   "codemirror_mode": {
    "name": "ipython",
    "version": 3
   },
   "file_extension": ".py",
   "mimetype": "text/x-python",
   "name": "python",
   "nbconvert_exporter": "python",
   "pygments_lexer": "ipython3",
   "version": "3.12.5"
  }
 },
 "nbformat": 4,
 "nbformat_minor": 2
}
